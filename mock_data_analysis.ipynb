{
  "nbformat": 4,
  "nbformat_minor": 0,
  "metadata": {
    "colab": {
      "provenance": [],
      "authorship_tag": "ABX9TyMtZ5UROxMo2s3QbjW9jKvo",
      "include_colab_link": true
    },
    "kernelspec": {
      "name": "python3",
      "display_name": "Python 3"
    },
    "language_info": {
      "name": "python"
    }
  },
  "cells": [
    {
      "cell_type": "markdown",
      "metadata": {
        "id": "view-in-github",
        "colab_type": "text"
      },
      "source": [
        "<a href=\"https://colab.research.google.com/github/mezkymy/mock-data-analysis/blob/main/mock_data_analysis.ipynb\" target=\"_parent\"><img src=\"https://colab.research.google.com/assets/colab-badge.svg\" alt=\"Open In Colab\"/></a>"
      ]
    },
    {
      "cell_type": "markdown",
      "source": [
        "# Mock Data Analysis\n",
        "\n",
        "<i>Disclaimer: This notebook was created as a sample of data analysis process using a **randomly generated mock data** made with the help of https://www.mockaroo.com/.</i>\n",
        "\n",
        "<i>Any conclusions or insights made are not reliable and should not be taken into consideration for any purpose. What is showcased in this notebook is the process of data analysis itself.</i>"
      ],
      "metadata": {
        "id": "f5RHySO1yQvO"
      }
    },
    {
      "cell_type": "code",
      "source": [
        "# import main libraries\n",
        "import pandas as pd\n",
        "import numpy as np\n",
        "import matplotlib.pyplot as plt\n",
        "import seaborn as sns\n",
        "from scipy import stats"
      ],
      "metadata": {
        "id": "MMAkDRW1zjbz"
      },
      "execution_count": 25,
      "outputs": []
    },
    {
      "cell_type": "code",
      "source": [
        "# load data\n",
        "account = 'mezkymy'\n",
        "repo = 'mock-data-analysis'\n",
        "branch = 'main'\n",
        "data_file_name = 'MOCK_DATA.csv'\n",
        "\n",
        "url = str(f'https://raw.githubusercontent.com/{account}/{repo}/{branch}/{data_file_name}')\n",
        "\n",
        "raw_data = pd.read_csv(url)\n",
        "df = raw_data.copy()\n",
        "df.head()"
      ],
      "metadata": {
        "colab": {
          "base_uri": "https://localhost:8080/",
          "height": 206
        },
        "id": "WAGBrVtl0RO4",
        "outputId": "e76cfdcd-c30d-4cb1-8302-b5297390c6ce"
      },
      "execution_count": null,
      "outputs": [
        {
          "output_type": "execute_result",
          "data": {
            "text/plain": [
              "  location_name           login_time    name                       email  \\\n",
              "0     Pekanbaru  2022-01-03 01:31:59   Alwyn  ahazell0@ezinearticles.com   \n",
              "1       Cirebon  2022-08-13 02:02:00    Gard          gdufoure1@hibu.com   \n",
              "2       Jakarta  2022-02-16 16:15:47    Earl       ejanicijevic2@ucoz.ru   \n",
              "3      Denpasar  2022-01-09 17:18:35  Ginger      ggrayston3@mozilla.org   \n",
              "4   Banjarmasin  2022-03-14 18:05:05   Randi   rfanti4@sciencedirect.com   \n",
              "\n",
              "           phone   yob phone_brand digital_interest location_type  \n",
              "0  (432) 6299084  1959       Nokia         painting          home  \n",
              "1  (422) 1502852  1976       Apple      photography        office  \n",
              "2  (167) 2090848  1986      Huawei         blogging        public  \n",
              "3  (816) 3109658  1973       Nokia         painting          home  \n",
              "4  (440) 1368511  1983          LG           gaming        office  "
            ],
            "text/html": [
              "\n",
              "  <div id=\"df-82dba236-c9a8-4d8a-986c-707f2ac41d15\" class=\"colab-df-container\">\n",
              "    <div>\n",
              "<style scoped>\n",
              "    .dataframe tbody tr th:only-of-type {\n",
              "        vertical-align: middle;\n",
              "    }\n",
              "\n",
              "    .dataframe tbody tr th {\n",
              "        vertical-align: top;\n",
              "    }\n",
              "\n",
              "    .dataframe thead th {\n",
              "        text-align: right;\n",
              "    }\n",
              "</style>\n",
              "<table border=\"1\" class=\"dataframe\">\n",
              "  <thead>\n",
              "    <tr style=\"text-align: right;\">\n",
              "      <th></th>\n",
              "      <th>location_name</th>\n",
              "      <th>login_time</th>\n",
              "      <th>name</th>\n",
              "      <th>email</th>\n",
              "      <th>phone</th>\n",
              "      <th>yob</th>\n",
              "      <th>phone_brand</th>\n",
              "      <th>digital_interest</th>\n",
              "      <th>location_type</th>\n",
              "    </tr>\n",
              "  </thead>\n",
              "  <tbody>\n",
              "    <tr>\n",
              "      <th>0</th>\n",
              "      <td>Pekanbaru</td>\n",
              "      <td>2022-01-03 01:31:59</td>\n",
              "      <td>Alwyn</td>\n",
              "      <td>ahazell0@ezinearticles.com</td>\n",
              "      <td>(432) 6299084</td>\n",
              "      <td>1959</td>\n",
              "      <td>Nokia</td>\n",
              "      <td>painting</td>\n",
              "      <td>home</td>\n",
              "    </tr>\n",
              "    <tr>\n",
              "      <th>1</th>\n",
              "      <td>Cirebon</td>\n",
              "      <td>2022-08-13 02:02:00</td>\n",
              "      <td>Gard</td>\n",
              "      <td>gdufoure1@hibu.com</td>\n",
              "      <td>(422) 1502852</td>\n",
              "      <td>1976</td>\n",
              "      <td>Apple</td>\n",
              "      <td>photography</td>\n",
              "      <td>office</td>\n",
              "    </tr>\n",
              "    <tr>\n",
              "      <th>2</th>\n",
              "      <td>Jakarta</td>\n",
              "      <td>2022-02-16 16:15:47</td>\n",
              "      <td>Earl</td>\n",
              "      <td>ejanicijevic2@ucoz.ru</td>\n",
              "      <td>(167) 2090848</td>\n",
              "      <td>1986</td>\n",
              "      <td>Huawei</td>\n",
              "      <td>blogging</td>\n",
              "      <td>public</td>\n",
              "    </tr>\n",
              "    <tr>\n",
              "      <th>3</th>\n",
              "      <td>Denpasar</td>\n",
              "      <td>2022-01-09 17:18:35</td>\n",
              "      <td>Ginger</td>\n",
              "      <td>ggrayston3@mozilla.org</td>\n",
              "      <td>(816) 3109658</td>\n",
              "      <td>1973</td>\n",
              "      <td>Nokia</td>\n",
              "      <td>painting</td>\n",
              "      <td>home</td>\n",
              "    </tr>\n",
              "    <tr>\n",
              "      <th>4</th>\n",
              "      <td>Banjarmasin</td>\n",
              "      <td>2022-03-14 18:05:05</td>\n",
              "      <td>Randi</td>\n",
              "      <td>rfanti4@sciencedirect.com</td>\n",
              "      <td>(440) 1368511</td>\n",
              "      <td>1983</td>\n",
              "      <td>LG</td>\n",
              "      <td>gaming</td>\n",
              "      <td>office</td>\n",
              "    </tr>\n",
              "  </tbody>\n",
              "</table>\n",
              "</div>\n",
              "    <div class=\"colab-df-buttons\">\n",
              "\n",
              "  <div class=\"colab-df-container\">\n",
              "    <button class=\"colab-df-convert\" onclick=\"convertToInteractive('df-82dba236-c9a8-4d8a-986c-707f2ac41d15')\"\n",
              "            title=\"Convert this dataframe to an interactive table.\"\n",
              "            style=\"display:none;\">\n",
              "\n",
              "  <svg xmlns=\"http://www.w3.org/2000/svg\" height=\"24px\" viewBox=\"0 -960 960 960\">\n",
              "    <path d=\"M120-120v-720h720v720H120Zm60-500h600v-160H180v160Zm220 220h160v-160H400v160Zm0 220h160v-160H400v160ZM180-400h160v-160H180v160Zm440 0h160v-160H620v160ZM180-180h160v-160H180v160Zm440 0h160v-160H620v160Z\"/>\n",
              "  </svg>\n",
              "    </button>\n",
              "\n",
              "  <style>\n",
              "    .colab-df-container {\n",
              "      display:flex;\n",
              "      gap: 12px;\n",
              "    }\n",
              "\n",
              "    .colab-df-convert {\n",
              "      background-color: #E8F0FE;\n",
              "      border: none;\n",
              "      border-radius: 50%;\n",
              "      cursor: pointer;\n",
              "      display: none;\n",
              "      fill: #1967D2;\n",
              "      height: 32px;\n",
              "      padding: 0 0 0 0;\n",
              "      width: 32px;\n",
              "    }\n",
              "\n",
              "    .colab-df-convert:hover {\n",
              "      background-color: #E2EBFA;\n",
              "      box-shadow: 0px 1px 2px rgba(60, 64, 67, 0.3), 0px 1px 3px 1px rgba(60, 64, 67, 0.15);\n",
              "      fill: #174EA6;\n",
              "    }\n",
              "\n",
              "    .colab-df-buttons div {\n",
              "      margin-bottom: 4px;\n",
              "    }\n",
              "\n",
              "    [theme=dark] .colab-df-convert {\n",
              "      background-color: #3B4455;\n",
              "      fill: #D2E3FC;\n",
              "    }\n",
              "\n",
              "    [theme=dark] .colab-df-convert:hover {\n",
              "      background-color: #434B5C;\n",
              "      box-shadow: 0px 1px 3px 1px rgba(0, 0, 0, 0.15);\n",
              "      filter: drop-shadow(0px 1px 2px rgba(0, 0, 0, 0.3));\n",
              "      fill: #FFFFFF;\n",
              "    }\n",
              "  </style>\n",
              "\n",
              "    <script>\n",
              "      const buttonEl =\n",
              "        document.querySelector('#df-82dba236-c9a8-4d8a-986c-707f2ac41d15 button.colab-df-convert');\n",
              "      buttonEl.style.display =\n",
              "        google.colab.kernel.accessAllowed ? 'block' : 'none';\n",
              "\n",
              "      async function convertToInteractive(key) {\n",
              "        const element = document.querySelector('#df-82dba236-c9a8-4d8a-986c-707f2ac41d15');\n",
              "        const dataTable =\n",
              "          await google.colab.kernel.invokeFunction('convertToInteractive',\n",
              "                                                    [key], {});\n",
              "        if (!dataTable) return;\n",
              "\n",
              "        const docLinkHtml = 'Like what you see? Visit the ' +\n",
              "          '<a target=\"_blank\" href=https://colab.research.google.com/notebooks/data_table.ipynb>data table notebook</a>'\n",
              "          + ' to learn more about interactive tables.';\n",
              "        element.innerHTML = '';\n",
              "        dataTable['output_type'] = 'display_data';\n",
              "        await google.colab.output.renderOutput(dataTable, element);\n",
              "        const docLink = document.createElement('div');\n",
              "        docLink.innerHTML = docLinkHtml;\n",
              "        element.appendChild(docLink);\n",
              "      }\n",
              "    </script>\n",
              "  </div>\n",
              "\n",
              "\n",
              "<div id=\"df-78f3d510-68cf-434e-b5f0-0b10987dfc73\">\n",
              "  <button class=\"colab-df-quickchart\" onclick=\"quickchart('df-78f3d510-68cf-434e-b5f0-0b10987dfc73')\"\n",
              "            title=\"Suggest charts\"\n",
              "            style=\"display:none;\">\n",
              "\n",
              "<svg xmlns=\"http://www.w3.org/2000/svg\" height=\"24px\"viewBox=\"0 0 24 24\"\n",
              "     width=\"24px\">\n",
              "    <g>\n",
              "        <path d=\"M19 3H5c-1.1 0-2 .9-2 2v14c0 1.1.9 2 2 2h14c1.1 0 2-.9 2-2V5c0-1.1-.9-2-2-2zM9 17H7v-7h2v7zm4 0h-2V7h2v10zm4 0h-2v-4h2v4z\"/>\n",
              "    </g>\n",
              "</svg>\n",
              "  </button>\n",
              "\n",
              "<style>\n",
              "  .colab-df-quickchart {\n",
              "      --bg-color: #E8F0FE;\n",
              "      --fill-color: #1967D2;\n",
              "      --hover-bg-color: #E2EBFA;\n",
              "      --hover-fill-color: #174EA6;\n",
              "      --disabled-fill-color: #AAA;\n",
              "      --disabled-bg-color: #DDD;\n",
              "  }\n",
              "\n",
              "  [theme=dark] .colab-df-quickchart {\n",
              "      --bg-color: #3B4455;\n",
              "      --fill-color: #D2E3FC;\n",
              "      --hover-bg-color: #434B5C;\n",
              "      --hover-fill-color: #FFFFFF;\n",
              "      --disabled-bg-color: #3B4455;\n",
              "      --disabled-fill-color: #666;\n",
              "  }\n",
              "\n",
              "  .colab-df-quickchart {\n",
              "    background-color: var(--bg-color);\n",
              "    border: none;\n",
              "    border-radius: 50%;\n",
              "    cursor: pointer;\n",
              "    display: none;\n",
              "    fill: var(--fill-color);\n",
              "    height: 32px;\n",
              "    padding: 0;\n",
              "    width: 32px;\n",
              "  }\n",
              "\n",
              "  .colab-df-quickchart:hover {\n",
              "    background-color: var(--hover-bg-color);\n",
              "    box-shadow: 0 1px 2px rgba(60, 64, 67, 0.3), 0 1px 3px 1px rgba(60, 64, 67, 0.15);\n",
              "    fill: var(--button-hover-fill-color);\n",
              "  }\n",
              "\n",
              "  .colab-df-quickchart-complete:disabled,\n",
              "  .colab-df-quickchart-complete:disabled:hover {\n",
              "    background-color: var(--disabled-bg-color);\n",
              "    fill: var(--disabled-fill-color);\n",
              "    box-shadow: none;\n",
              "  }\n",
              "\n",
              "  .colab-df-spinner {\n",
              "    border: 2px solid var(--fill-color);\n",
              "    border-color: transparent;\n",
              "    border-bottom-color: var(--fill-color);\n",
              "    animation:\n",
              "      spin 1s steps(1) infinite;\n",
              "  }\n",
              "\n",
              "  @keyframes spin {\n",
              "    0% {\n",
              "      border-color: transparent;\n",
              "      border-bottom-color: var(--fill-color);\n",
              "      border-left-color: var(--fill-color);\n",
              "    }\n",
              "    20% {\n",
              "      border-color: transparent;\n",
              "      border-left-color: var(--fill-color);\n",
              "      border-top-color: var(--fill-color);\n",
              "    }\n",
              "    30% {\n",
              "      border-color: transparent;\n",
              "      border-left-color: var(--fill-color);\n",
              "      border-top-color: var(--fill-color);\n",
              "      border-right-color: var(--fill-color);\n",
              "    }\n",
              "    40% {\n",
              "      border-color: transparent;\n",
              "      border-right-color: var(--fill-color);\n",
              "      border-top-color: var(--fill-color);\n",
              "    }\n",
              "    60% {\n",
              "      border-color: transparent;\n",
              "      border-right-color: var(--fill-color);\n",
              "    }\n",
              "    80% {\n",
              "      border-color: transparent;\n",
              "      border-right-color: var(--fill-color);\n",
              "      border-bottom-color: var(--fill-color);\n",
              "    }\n",
              "    90% {\n",
              "      border-color: transparent;\n",
              "      border-bottom-color: var(--fill-color);\n",
              "    }\n",
              "  }\n",
              "</style>\n",
              "\n",
              "  <script>\n",
              "    async function quickchart(key) {\n",
              "      const quickchartButtonEl =\n",
              "        document.querySelector('#' + key + ' button');\n",
              "      quickchartButtonEl.disabled = true;  // To prevent multiple clicks.\n",
              "      quickchartButtonEl.classList.add('colab-df-spinner');\n",
              "      try {\n",
              "        const charts = await google.colab.kernel.invokeFunction(\n",
              "            'suggestCharts', [key], {});\n",
              "      } catch (error) {\n",
              "        console.error('Error during call to suggestCharts:', error);\n",
              "      }\n",
              "      quickchartButtonEl.classList.remove('colab-df-spinner');\n",
              "      quickchartButtonEl.classList.add('colab-df-quickchart-complete');\n",
              "    }\n",
              "    (() => {\n",
              "      let quickchartButtonEl =\n",
              "        document.querySelector('#df-78f3d510-68cf-434e-b5f0-0b10987dfc73 button');\n",
              "      quickchartButtonEl.style.display =\n",
              "        google.colab.kernel.accessAllowed ? 'block' : 'none';\n",
              "    })();\n",
              "  </script>\n",
              "</div>\n",
              "    </div>\n",
              "  </div>\n"
            ],
            "application/vnd.google.colaboratory.intrinsic+json": {
              "type": "dataframe",
              "variable_name": "df",
              "summary": "{\n  \"name\": \"df\",\n  \"rows\": 1000,\n  \"fields\": [\n    {\n      \"column\": \"location_name\",\n      \"properties\": {\n        \"dtype\": \"category\",\n        \"num_unique_values\": 20,\n        \"samples\": [\n          \"Pekanbaru\",\n          \"Manado\",\n          \"Yogyakarta\"\n        ],\n        \"semantic_type\": \"\",\n        \"description\": \"\"\n      }\n    },\n    {\n      \"column\": \"login_time\",\n      \"properties\": {\n        \"dtype\": \"object\",\n        \"num_unique_values\": 1000,\n        \"samples\": [\n          \"2022-03-06 03:10:42\",\n          \"2022-03-01 01:17:26\",\n          \"2022-04-27 22:16:31\"\n        ],\n        \"semantic_type\": \"\",\n        \"description\": \"\"\n      }\n    },\n    {\n      \"column\": \"name\",\n      \"properties\": {\n        \"dtype\": \"string\",\n        \"num_unique_values\": 930,\n        \"samples\": [\n          \"Toma\",\n          \"Hadleigh\",\n          \"Con\"\n        ],\n        \"semantic_type\": \"\",\n        \"description\": \"\"\n      }\n    },\n    {\n      \"column\": \"email\",\n      \"properties\": {\n        \"dtype\": \"string\",\n        \"num_unique_values\": 1000,\n        \"samples\": [\n          \"dhendrickxeh@jalbum.net\",\n          \"mbreazeallkh@yelp.com\",\n          \"gannesleykk@w3.org\"\n        ],\n        \"semantic_type\": \"\",\n        \"description\": \"\"\n      }\n    },\n    {\n      \"column\": \"phone\",\n      \"properties\": {\n        \"dtype\": \"string\",\n        \"num_unique_values\": 1000,\n        \"samples\": [\n          \"(691) 3842840\",\n          \"(423) 8173209\",\n          \"(698) 4857441\"\n        ],\n        \"semantic_type\": \"\",\n        \"description\": \"\"\n      }\n    },\n    {\n      \"column\": \"yob\",\n      \"properties\": {\n        \"dtype\": \"number\",\n        \"std\": 17,\n        \"min\": 1950,\n        \"max\": 2010,\n        \"num_unique_values\": 61,\n        \"samples\": [\n          1959,\n          1993,\n          1998\n        ],\n        \"semantic_type\": \"\",\n        \"description\": \"\"\n      }\n    },\n    {\n      \"column\": \"phone_brand\",\n      \"properties\": {\n        \"dtype\": \"category\",\n        \"num_unique_values\": 12,\n        \"samples\": [\n          \"Samsung\",\n          \"Google\",\n          \"Nokia\"\n        ],\n        \"semantic_type\": \"\",\n        \"description\": \"\"\n      }\n    },\n    {\n      \"column\": \"digital_interest\",\n      \"properties\": {\n        \"dtype\": \"category\",\n        \"num_unique_values\": 8,\n        \"samples\": [\n          \"photography\",\n          \"coding\",\n          \"painting\"\n        ],\n        \"semantic_type\": \"\",\n        \"description\": \"\"\n      }\n    },\n    {\n      \"column\": \"location_type\",\n      \"properties\": {\n        \"dtype\": \"category\",\n        \"num_unique_values\": 3,\n        \"samples\": [\n          \"home\",\n          \"office\",\n          \"public\"\n        ],\n        \"semantic_type\": \"\",\n        \"description\": \"\"\n      }\n    }\n  ]\n}"
            }
          },
          "metadata": {},
          "execution_count": 8
        }
      ]
    },
    {
      "cell_type": "markdown",
      "source": [
        "## Data Exploration"
      ],
      "metadata": {
        "id": "FTTxfG4U1U_N"
      }
    },
    {
      "cell_type": "code",
      "source": [
        "df.info()"
      ],
      "metadata": {
        "colab": {
          "base_uri": "https://localhost:8080/"
        },
        "id": "ZDAp-vVe1Z_X",
        "outputId": "19fbb9a1-87ae-4df9-be4d-6bc6b8e427f7"
      },
      "execution_count": null,
      "outputs": [
        {
          "output_type": "stream",
          "name": "stdout",
          "text": [
            "<class 'pandas.core.frame.DataFrame'>\n",
            "RangeIndex: 1000 entries, 0 to 999\n",
            "Data columns (total 9 columns):\n",
            " #   Column            Non-Null Count  Dtype \n",
            "---  ------            --------------  ----- \n",
            " 0   location_name     1000 non-null   object\n",
            " 1   login_time        1000 non-null   object\n",
            " 2   name              1000 non-null   object\n",
            " 3   email             1000 non-null   object\n",
            " 4   phone             1000 non-null   object\n",
            " 5   yob               1000 non-null   int64 \n",
            " 6   phone_brand       1000 non-null   object\n",
            " 7   digital_interest  1000 non-null   object\n",
            " 8   location_type     1000 non-null   object\n",
            "dtypes: int64(1), object(8)\n",
            "memory usage: 70.4+ KB\n"
          ]
        }
      ]
    },
    {
      "cell_type": "markdown",
      "source": [
        "This is a randomly generated mock data that is also purposefully made to have zero null values in any of the columns. The amount of rows are 1000 with 8 different features/variables.\n",
        "\n",
        "Note that some of these features may contain sensitive information and also might not be useful in the analysis itself. It is a good idea to remove these informations in the early steps to avoid leaking sensitive information further down the report.\n",
        "\n",
        "Also since this is a randomly generated data, the email address and the name of the users might also be mismatched, thus it is completely pointless to perform any analysis using these features. Each entries are also treated as different users, so removing the name and extracting only the domain of the email is done at this step."
      ],
      "metadata": {
        "id": "yCm_zcYN1bxW"
      }
    },
    {
      "cell_type": "code",
      "source": [
        "# take only the domain name from the email (also removing the TLD)\n",
        "df['email_domain'] = df['email'].str.split('@').str[1].str.split('.').str[0]\n",
        "\n",
        "# drop the original email column\n",
        "df2 = df.drop(columns='email')\n",
        "\n",
        "# remove user name\n",
        "df2.drop(columns='name', inplace=True)\n",
        "\n",
        "# check resulting data\n",
        "df2.head()"
      ],
      "metadata": {
        "colab": {
          "base_uri": "https://localhost:8080/",
          "height": 206
        },
        "id": "2Ahyt35K2MMl",
        "outputId": "b9186cd3-cac8-44eb-a17a-651bcff3f891"
      },
      "execution_count": 24,
      "outputs": [
        {
          "output_type": "execute_result",
          "data": {
            "text/plain": [
              "  location_name           login_time          phone   yob phone_brand  \\\n",
              "0     Pekanbaru  2022-01-03 01:31:59  (432) 6299084  1959       Nokia   \n",
              "1       Cirebon  2022-08-13 02:02:00  (422) 1502852  1976       Apple   \n",
              "2       Jakarta  2022-02-16 16:15:47  (167) 2090848  1986      Huawei   \n",
              "3      Denpasar  2022-01-09 17:18:35  (816) 3109658  1973       Nokia   \n",
              "4   Banjarmasin  2022-03-14 18:05:05  (440) 1368511  1983          LG   \n",
              "\n",
              "  digital_interest location_type   email_domain  \n",
              "0         painting          home  ezinearticles  \n",
              "1      photography        office           hibu  \n",
              "2         blogging        public           ucoz  \n",
              "3         painting          home        mozilla  \n",
              "4           gaming        office  sciencedirect  "
            ],
            "text/html": [
              "\n",
              "  <div id=\"df-e016ef79-cf6c-4a6f-8eb0-06326e2fb172\" class=\"colab-df-container\">\n",
              "    <div>\n",
              "<style scoped>\n",
              "    .dataframe tbody tr th:only-of-type {\n",
              "        vertical-align: middle;\n",
              "    }\n",
              "\n",
              "    .dataframe tbody tr th {\n",
              "        vertical-align: top;\n",
              "    }\n",
              "\n",
              "    .dataframe thead th {\n",
              "        text-align: right;\n",
              "    }\n",
              "</style>\n",
              "<table border=\"1\" class=\"dataframe\">\n",
              "  <thead>\n",
              "    <tr style=\"text-align: right;\">\n",
              "      <th></th>\n",
              "      <th>location_name</th>\n",
              "      <th>login_time</th>\n",
              "      <th>phone</th>\n",
              "      <th>yob</th>\n",
              "      <th>phone_brand</th>\n",
              "      <th>digital_interest</th>\n",
              "      <th>location_type</th>\n",
              "      <th>email_domain</th>\n",
              "    </tr>\n",
              "  </thead>\n",
              "  <tbody>\n",
              "    <tr>\n",
              "      <th>0</th>\n",
              "      <td>Pekanbaru</td>\n",
              "      <td>2022-01-03 01:31:59</td>\n",
              "      <td>(432) 6299084</td>\n",
              "      <td>1959</td>\n",
              "      <td>Nokia</td>\n",
              "      <td>painting</td>\n",
              "      <td>home</td>\n",
              "      <td>ezinearticles</td>\n",
              "    </tr>\n",
              "    <tr>\n",
              "      <th>1</th>\n",
              "      <td>Cirebon</td>\n",
              "      <td>2022-08-13 02:02:00</td>\n",
              "      <td>(422) 1502852</td>\n",
              "      <td>1976</td>\n",
              "      <td>Apple</td>\n",
              "      <td>photography</td>\n",
              "      <td>office</td>\n",
              "      <td>hibu</td>\n",
              "    </tr>\n",
              "    <tr>\n",
              "      <th>2</th>\n",
              "      <td>Jakarta</td>\n",
              "      <td>2022-02-16 16:15:47</td>\n",
              "      <td>(167) 2090848</td>\n",
              "      <td>1986</td>\n",
              "      <td>Huawei</td>\n",
              "      <td>blogging</td>\n",
              "      <td>public</td>\n",
              "      <td>ucoz</td>\n",
              "    </tr>\n",
              "    <tr>\n",
              "      <th>3</th>\n",
              "      <td>Denpasar</td>\n",
              "      <td>2022-01-09 17:18:35</td>\n",
              "      <td>(816) 3109658</td>\n",
              "      <td>1973</td>\n",
              "      <td>Nokia</td>\n",
              "      <td>painting</td>\n",
              "      <td>home</td>\n",
              "      <td>mozilla</td>\n",
              "    </tr>\n",
              "    <tr>\n",
              "      <th>4</th>\n",
              "      <td>Banjarmasin</td>\n",
              "      <td>2022-03-14 18:05:05</td>\n",
              "      <td>(440) 1368511</td>\n",
              "      <td>1983</td>\n",
              "      <td>LG</td>\n",
              "      <td>gaming</td>\n",
              "      <td>office</td>\n",
              "      <td>sciencedirect</td>\n",
              "    </tr>\n",
              "  </tbody>\n",
              "</table>\n",
              "</div>\n",
              "    <div class=\"colab-df-buttons\">\n",
              "\n",
              "  <div class=\"colab-df-container\">\n",
              "    <button class=\"colab-df-convert\" onclick=\"convertToInteractive('df-e016ef79-cf6c-4a6f-8eb0-06326e2fb172')\"\n",
              "            title=\"Convert this dataframe to an interactive table.\"\n",
              "            style=\"display:none;\">\n",
              "\n",
              "  <svg xmlns=\"http://www.w3.org/2000/svg\" height=\"24px\" viewBox=\"0 -960 960 960\">\n",
              "    <path d=\"M120-120v-720h720v720H120Zm60-500h600v-160H180v160Zm220 220h160v-160H400v160Zm0 220h160v-160H400v160ZM180-400h160v-160H180v160Zm440 0h160v-160H620v160ZM180-180h160v-160H180v160Zm440 0h160v-160H620v160Z\"/>\n",
              "  </svg>\n",
              "    </button>\n",
              "\n",
              "  <style>\n",
              "    .colab-df-container {\n",
              "      display:flex;\n",
              "      gap: 12px;\n",
              "    }\n",
              "\n",
              "    .colab-df-convert {\n",
              "      background-color: #E8F0FE;\n",
              "      border: none;\n",
              "      border-radius: 50%;\n",
              "      cursor: pointer;\n",
              "      display: none;\n",
              "      fill: #1967D2;\n",
              "      height: 32px;\n",
              "      padding: 0 0 0 0;\n",
              "      width: 32px;\n",
              "    }\n",
              "\n",
              "    .colab-df-convert:hover {\n",
              "      background-color: #E2EBFA;\n",
              "      box-shadow: 0px 1px 2px rgba(60, 64, 67, 0.3), 0px 1px 3px 1px rgba(60, 64, 67, 0.15);\n",
              "      fill: #174EA6;\n",
              "    }\n",
              "\n",
              "    .colab-df-buttons div {\n",
              "      margin-bottom: 4px;\n",
              "    }\n",
              "\n",
              "    [theme=dark] .colab-df-convert {\n",
              "      background-color: #3B4455;\n",
              "      fill: #D2E3FC;\n",
              "    }\n",
              "\n",
              "    [theme=dark] .colab-df-convert:hover {\n",
              "      background-color: #434B5C;\n",
              "      box-shadow: 0px 1px 3px 1px rgba(0, 0, 0, 0.15);\n",
              "      filter: drop-shadow(0px 1px 2px rgba(0, 0, 0, 0.3));\n",
              "      fill: #FFFFFF;\n",
              "    }\n",
              "  </style>\n",
              "\n",
              "    <script>\n",
              "      const buttonEl =\n",
              "        document.querySelector('#df-e016ef79-cf6c-4a6f-8eb0-06326e2fb172 button.colab-df-convert');\n",
              "      buttonEl.style.display =\n",
              "        google.colab.kernel.accessAllowed ? 'block' : 'none';\n",
              "\n",
              "      async function convertToInteractive(key) {\n",
              "        const element = document.querySelector('#df-e016ef79-cf6c-4a6f-8eb0-06326e2fb172');\n",
              "        const dataTable =\n",
              "          await google.colab.kernel.invokeFunction('convertToInteractive',\n",
              "                                                    [key], {});\n",
              "        if (!dataTable) return;\n",
              "\n",
              "        const docLinkHtml = 'Like what you see? Visit the ' +\n",
              "          '<a target=\"_blank\" href=https://colab.research.google.com/notebooks/data_table.ipynb>data table notebook</a>'\n",
              "          + ' to learn more about interactive tables.';\n",
              "        element.innerHTML = '';\n",
              "        dataTable['output_type'] = 'display_data';\n",
              "        await google.colab.output.renderOutput(dataTable, element);\n",
              "        const docLink = document.createElement('div');\n",
              "        docLink.innerHTML = docLinkHtml;\n",
              "        element.appendChild(docLink);\n",
              "      }\n",
              "    </script>\n",
              "  </div>\n",
              "\n",
              "\n",
              "<div id=\"df-7622042d-d5f8-487e-bea5-235a60962588\">\n",
              "  <button class=\"colab-df-quickchart\" onclick=\"quickchart('df-7622042d-d5f8-487e-bea5-235a60962588')\"\n",
              "            title=\"Suggest charts\"\n",
              "            style=\"display:none;\">\n",
              "\n",
              "<svg xmlns=\"http://www.w3.org/2000/svg\" height=\"24px\"viewBox=\"0 0 24 24\"\n",
              "     width=\"24px\">\n",
              "    <g>\n",
              "        <path d=\"M19 3H5c-1.1 0-2 .9-2 2v14c0 1.1.9 2 2 2h14c1.1 0 2-.9 2-2V5c0-1.1-.9-2-2-2zM9 17H7v-7h2v7zm4 0h-2V7h2v10zm4 0h-2v-4h2v4z\"/>\n",
              "    </g>\n",
              "</svg>\n",
              "  </button>\n",
              "\n",
              "<style>\n",
              "  .colab-df-quickchart {\n",
              "      --bg-color: #E8F0FE;\n",
              "      --fill-color: #1967D2;\n",
              "      --hover-bg-color: #E2EBFA;\n",
              "      --hover-fill-color: #174EA6;\n",
              "      --disabled-fill-color: #AAA;\n",
              "      --disabled-bg-color: #DDD;\n",
              "  }\n",
              "\n",
              "  [theme=dark] .colab-df-quickchart {\n",
              "      --bg-color: #3B4455;\n",
              "      --fill-color: #D2E3FC;\n",
              "      --hover-bg-color: #434B5C;\n",
              "      --hover-fill-color: #FFFFFF;\n",
              "      --disabled-bg-color: #3B4455;\n",
              "      --disabled-fill-color: #666;\n",
              "  }\n",
              "\n",
              "  .colab-df-quickchart {\n",
              "    background-color: var(--bg-color);\n",
              "    border: none;\n",
              "    border-radius: 50%;\n",
              "    cursor: pointer;\n",
              "    display: none;\n",
              "    fill: var(--fill-color);\n",
              "    height: 32px;\n",
              "    padding: 0;\n",
              "    width: 32px;\n",
              "  }\n",
              "\n",
              "  .colab-df-quickchart:hover {\n",
              "    background-color: var(--hover-bg-color);\n",
              "    box-shadow: 0 1px 2px rgba(60, 64, 67, 0.3), 0 1px 3px 1px rgba(60, 64, 67, 0.15);\n",
              "    fill: var(--button-hover-fill-color);\n",
              "  }\n",
              "\n",
              "  .colab-df-quickchart-complete:disabled,\n",
              "  .colab-df-quickchart-complete:disabled:hover {\n",
              "    background-color: var(--disabled-bg-color);\n",
              "    fill: var(--disabled-fill-color);\n",
              "    box-shadow: none;\n",
              "  }\n",
              "\n",
              "  .colab-df-spinner {\n",
              "    border: 2px solid var(--fill-color);\n",
              "    border-color: transparent;\n",
              "    border-bottom-color: var(--fill-color);\n",
              "    animation:\n",
              "      spin 1s steps(1) infinite;\n",
              "  }\n",
              "\n",
              "  @keyframes spin {\n",
              "    0% {\n",
              "      border-color: transparent;\n",
              "      border-bottom-color: var(--fill-color);\n",
              "      border-left-color: var(--fill-color);\n",
              "    }\n",
              "    20% {\n",
              "      border-color: transparent;\n",
              "      border-left-color: var(--fill-color);\n",
              "      border-top-color: var(--fill-color);\n",
              "    }\n",
              "    30% {\n",
              "      border-color: transparent;\n",
              "      border-left-color: var(--fill-color);\n",
              "      border-top-color: var(--fill-color);\n",
              "      border-right-color: var(--fill-color);\n",
              "    }\n",
              "    40% {\n",
              "      border-color: transparent;\n",
              "      border-right-color: var(--fill-color);\n",
              "      border-top-color: var(--fill-color);\n",
              "    }\n",
              "    60% {\n",
              "      border-color: transparent;\n",
              "      border-right-color: var(--fill-color);\n",
              "    }\n",
              "    80% {\n",
              "      border-color: transparent;\n",
              "      border-right-color: var(--fill-color);\n",
              "      border-bottom-color: var(--fill-color);\n",
              "    }\n",
              "    90% {\n",
              "      border-color: transparent;\n",
              "      border-bottom-color: var(--fill-color);\n",
              "    }\n",
              "  }\n",
              "</style>\n",
              "\n",
              "  <script>\n",
              "    async function quickchart(key) {\n",
              "      const quickchartButtonEl =\n",
              "        document.querySelector('#' + key + ' button');\n",
              "      quickchartButtonEl.disabled = true;  // To prevent multiple clicks.\n",
              "      quickchartButtonEl.classList.add('colab-df-spinner');\n",
              "      try {\n",
              "        const charts = await google.colab.kernel.invokeFunction(\n",
              "            'suggestCharts', [key], {});\n",
              "      } catch (error) {\n",
              "        console.error('Error during call to suggestCharts:', error);\n",
              "      }\n",
              "      quickchartButtonEl.classList.remove('colab-df-spinner');\n",
              "      quickchartButtonEl.classList.add('colab-df-quickchart-complete');\n",
              "    }\n",
              "    (() => {\n",
              "      let quickchartButtonEl =\n",
              "        document.querySelector('#df-7622042d-d5f8-487e-bea5-235a60962588 button');\n",
              "      quickchartButtonEl.style.display =\n",
              "        google.colab.kernel.accessAllowed ? 'block' : 'none';\n",
              "    })();\n",
              "  </script>\n",
              "</div>\n",
              "    </div>\n",
              "  </div>\n"
            ],
            "application/vnd.google.colaboratory.intrinsic+json": {
              "type": "dataframe",
              "variable_name": "df2",
              "summary": "{\n  \"name\": \"df2\",\n  \"rows\": 1000,\n  \"fields\": [\n    {\n      \"column\": \"location_name\",\n      \"properties\": {\n        \"dtype\": \"category\",\n        \"num_unique_values\": 20,\n        \"samples\": [\n          \"Pekanbaru\",\n          \"Manado\",\n          \"Yogyakarta\"\n        ],\n        \"semantic_type\": \"\",\n        \"description\": \"\"\n      }\n    },\n    {\n      \"column\": \"login_time\",\n      \"properties\": {\n        \"dtype\": \"object\",\n        \"num_unique_values\": 1000,\n        \"samples\": [\n          \"2022-03-06 03:10:42\",\n          \"2022-03-01 01:17:26\",\n          \"2022-04-27 22:16:31\"\n        ],\n        \"semantic_type\": \"\",\n        \"description\": \"\"\n      }\n    },\n    {\n      \"column\": \"phone\",\n      \"properties\": {\n        \"dtype\": \"string\",\n        \"num_unique_values\": 1000,\n        \"samples\": [\n          \"(691) 3842840\",\n          \"(423) 8173209\",\n          \"(698) 4857441\"\n        ],\n        \"semantic_type\": \"\",\n        \"description\": \"\"\n      }\n    },\n    {\n      \"column\": \"yob\",\n      \"properties\": {\n        \"dtype\": \"number\",\n        \"std\": 17,\n        \"min\": 1950,\n        \"max\": 2010,\n        \"num_unique_values\": 61,\n        \"samples\": [\n          1959,\n          1993,\n          1998\n        ],\n        \"semantic_type\": \"\",\n        \"description\": \"\"\n      }\n    },\n    {\n      \"column\": \"phone_brand\",\n      \"properties\": {\n        \"dtype\": \"category\",\n        \"num_unique_values\": 12,\n        \"samples\": [\n          \"Samsung\",\n          \"Google\",\n          \"Nokia\"\n        ],\n        \"semantic_type\": \"\",\n        \"description\": \"\"\n      }\n    },\n    {\n      \"column\": \"digital_interest\",\n      \"properties\": {\n        \"dtype\": \"category\",\n        \"num_unique_values\": 8,\n        \"samples\": [\n          \"photography\",\n          \"coding\",\n          \"painting\"\n        ],\n        \"semantic_type\": \"\",\n        \"description\": \"\"\n      }\n    },\n    {\n      \"column\": \"location_type\",\n      \"properties\": {\n        \"dtype\": \"category\",\n        \"num_unique_values\": 3,\n        \"samples\": [\n          \"home\",\n          \"office\",\n          \"public\"\n        ],\n        \"semantic_type\": \"\",\n        \"description\": \"\"\n      }\n    },\n    {\n      \"column\": \"email_domain\",\n      \"properties\": {\n        \"dtype\": \"category\",\n        \"num_unique_values\": 421,\n        \"samples\": [\n          \"chronoengine\",\n          \"senate\",\n          \"geocities\"\n        ],\n        \"semantic_type\": \"\",\n        \"description\": \"\"\n      }\n    }\n  ]\n}"
            }
          },
          "metadata": {},
          "execution_count": 24
        }
      ]
    },
    {
      "cell_type": "markdown",
      "source": [
        "### Univariate Analysis"
      ],
      "metadata": {
        "id": "MRGcc_1c4hj0"
      }
    },
    {
      "cell_type": "markdown",
      "source": [
        "#### Year of Birth"
      ],
      "metadata": {
        "id": "IKLpvAilCaDr"
      }
    },
    {
      "source": [
        "# plot histogram\n",
        "df2['yob'].plot(kind='hist', title='User Distribution by Year of Birth')\n",
        "plt.gca().spines[['top', 'right',]].set_visible(False)"
      ],
      "cell_type": "code",
      "execution_count": null,
      "outputs": [
        {
          "output_type": "display_data",
          "data": {
            "text/plain": [
              "<Figure size 640x480 with 1 Axes>"
            ],
            "image/png": "[encoded data removed]"
          },
          "metadata": {}
        }
      ],
      "metadata": {
        "colab": {
          "base_uri": "https://localhost:8080/",
          "height": 452
        },
        "id": "EfB3irLS0iA5",
        "outputId": "8c1830ba-1c97-46f5-afe2-d13614f8e27c"
      }
    },
    {
      "cell_type": "markdown",
      "source": [
        "Users can be grouped based on their year of birth which indicates their age. Using the same grouping categories as used in [HIGO 2024 Annual Report](https://higo.id/annualreport2024) - which is also based on the [2020 Indonesia Population Census by BPS](https://sensus.bps.go.id/main/index/sp2020), users are grouped by these categories:\n",
        "\n",
        "1. Pre-boomer: born before 1945\n",
        "2. Boomer: born between 1946-1964\n",
        "3. Gen X: born between 1965-1980\n",
        "4. Millenial: born between 1981-1996\n",
        "5. Gen Z: born between 1997-2012\n",
        "6. Post Gen Z: born after 2013\n",
        "\n",
        "As indicated visually on the image above, in this mock data there are no users aged below 1950 or after 2010, which means that there should be no users in the `Pre-boomer` and `Post Gen Z` category thus reducing the number of categories to 4: `Boomer`, `Gen X`, `Millenial`, and `Gen Z`."
      ],
      "metadata": {
        "id": "ottOadFH0wK9"
      }
    },
    {
      "cell_type": "code",
      "source": [
        "# categorize by yob\n",
        "cond = [\n",
        "    (df2['yob'] <= 1964),\n",
        "    (df2['yob'] >= 1965) & (df['yob'] <= 1980),\n",
        "    (df2['yob'] >= 1981) & (df['yob'] <= 1996),\n",
        "    (df2['yob'] >= 1997),\n",
        "]\n",
        "\n",
        "val = ['Boomer', 'Gen X', 'Millenial', 'Gen Z']\n",
        "\n",
        "df2['age_category'] = np.select(cond, val)\n",
        "\n",
        "# plot to see the age category distribution\n",
        "sns.countplot(y='age_category', data=df2)\n",
        "plt.title('User Distribution by Age Category')\n",
        "plt.gca().spines[['top', 'right',]].set_visible(False)\n",
        "plt.show()"
      ],
      "metadata": {
        "id": "HjZU79TK7d8i",
        "colab": {
          "base_uri": "https://localhost:8080/",
          "height": 472
        },
        "outputId": "f2566549-b8f4-4bbc-e62b-54f202f9cb98"
      },
      "execution_count": 21,
      "outputs": [
        {
          "output_type": "display_data",
          "data": {
            "text/plain": [
              "<Figure size 640x480 with 1 Axes>"
            ],
            "image/png": "[encoded data removed]"
          },
          "metadata": {}
        }
      ]
    },
    {
      "cell_type": "markdown",
      "source": [
        "Since there are only 4 categories, a pie chart can be used instead to easily see the proportions of each group in the overall dataset."
      ],
      "metadata": {
        "id": "yVwvJOEl8NiB"
      }
    },
    {
      "cell_type": "code",
      "source": [
        "# pie chart\n",
        "df2.groupby('age_category').size().plot(kind='pie', autopct='%.2f%%')\n",
        "\n",
        "plt.title('Ratio of Each Age Categories')\n",
        "plt.show()"
      ],
      "metadata": {
        "colab": {
          "base_uri": "https://localhost:8080/",
          "height": 428
        },
        "id": "LHeTaXKb-mbv",
        "outputId": "6fe4812f-2416-4e37-fab2-a5e49705f357"
      },
      "execution_count": 23,
      "outputs": [
        {
          "output_type": "display_data",
          "data": {
            "text/plain": [
              "<Figure size 640x480 with 1 Axes>"
            ],
            "image/png": "[encoded data removed]"
          },
          "metadata": {}
        }
      ]
    },
    {
      "cell_type": "markdown",
      "source": [
        "In this dataset, users are relatively equally divided by their age groups, where millenials are the majority but only by a small margin compared to the others. Using this information, an **all-age approach** can be more effective rather than targeting for a specific age group when advertising or promoting a product."
      ],
      "metadata": {
        "id": "mEnKNVZN_I1p"
      }
    },
    {
      "cell_type": "markdown",
      "source": [
        "#### Email Domain"
      ],
      "metadata": {
        "id": "w-B2TndaCIP7"
      }
    },
    {
      "cell_type": "code",
      "source": [
        "df2.email_domain.value_counts()"
      ],
      "metadata": {
        "colab": {
          "base_uri": "https://localhost:8080/"
        },
        "id": "hFyY9xHAChlo",
        "outputId": "0e078275-0c7b-4713-c26a-acae33814539"
      },
      "execution_count": 29,
      "outputs": [
        {
          "output_type": "execute_result",
          "data": {
            "text/plain": [
              "google            22\n",
              "t-online           8\n",
              "oaic               7\n",
              "dagondesign        7\n",
              "cmu                7\n",
              "                  ..\n",
              "unblog             1\n",
              "webeden            1\n",
              "clickbank          1\n",
              "shareasale         1\n",
              "barnesandnoble     1\n",
              "Name: email_domain, Length: 421, dtype: int64"
            ]
          },
          "metadata": {},
          "execution_count": 29
        }
      ]
    },
    {
      "cell_type": "markdown",
      "source": [
        "There are 421 unique email domains in this dataset, which might be too much to visualize."
      ],
      "metadata": {
        "id": "HU7TYyyZClWE"
      }
    },
    {
      "cell_type": "code",
      "source": [
        "# plot only the top 5 email domain\n",
        "sns.countplot(y='email_domain', data=df2, order=df2.email_domain.value_counts().iloc[:5].index)\n",
        "plt.title('User Distribution by Email Domain')\n",
        "plt.gca().spines[['top', 'right',]].set_visible(False)\n",
        "plt.show()"
      ],
      "metadata": {
        "colab": {
          "base_uri": "https://localhost:8080/",
          "height": 472
        },
        "id": "Ds-lq-KwAfPI",
        "outputId": "798ff44d-5ab8-467f-95b5-b5027d484308"
      },
      "execution_count": 27,
      "outputs": [
        {
          "output_type": "display_data",
          "data": {
            "text/plain": [
              "<Figure size 640x480 with 1 Axes>"
            ],
            "image/png": "[encoded data removed]"
          },
          "metadata": {}
        }
      ]
    },
    {
      "cell_type": "markdown",
      "source": [
        "The most commonly used email domain by the user in this dataset is Google, which only consists of 2.2% of the dataset. This means that using the email domain to categorize users are not effective since the user email domains are so distributed and that targeting specific domains would result in excluding many other users in the process."
      ],
      "metadata": {
        "id": "rlF0nsoTDEqi"
      }
    },
    {
      "cell_type": "code",
      "source": [],
      "metadata": {
        "id": "7JlUiLx_BwL6"
      },
      "execution_count": null,
      "outputs": []
    }
  ]
}